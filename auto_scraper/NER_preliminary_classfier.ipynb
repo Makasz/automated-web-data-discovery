{
 "cells": [
  {
   "cell_type": "code",
   "execution_count": 66,
   "metadata": {},
   "outputs": [],
   "source": [
    "import spacy\n",
    "from nltk.tokenize import word_tokenize\n",
    "from nltk.stem import PorterStemmer\n",
    "from nltk.corpus import stopwords\n",
    "import csv\n",
    "from sklearn import model_selection, preprocessing, linear_model, naive_bayes, metrics, svm\n",
    "from sklearn.feature_extraction.text import TfidfVectorizer, CountVectorizer\n",
    "from sklearn import decomposition, ensemble\n",
    "import pandas, xgboost, numpy, textblob, string\n",
    "from keras.preprocessing import text, sequence\n",
    "from keras import layers, models, optimizers\n",
    "\n",
    "ps = PorterStemmer()\n",
    "stop_words = set(stopwords.words('english')) \n",
    "sp = spacy.load('en_core_web_sm')"
   ]
  },
  {
   "cell_type": "markdown",
   "metadata": {
    "pycharm": {
     "name": "#%% md\n"
    }
   },
   "source": [
    "### Load and preprocess data"
   ]
  },
  {
   "cell_type": "code",
   "execution_count": 67,
   "metadata": {},
   "outputs": [],
   "source": [
    "def preprocess_text(sentence):\n",
    "    sentence = sentence.lower()\n",
    "    word_tokens = word_tokenize(sentence)\n",
    "    sentence = [w for w in word_tokens if not w in stop_words]\n",
    "    sentence = [ps.stem(w) for w in word_tokens]\n",
    "    return \" \".join(sentence)"
   ]
  },
  {
   "cell_type": "code",
   "execution_count": 103,
   "metadata": {},
   "outputs": [
    {
     "data": {
      "text/html": [
       "<div>\n",
       "<style scoped>\n",
       "    .dataframe tbody tr th:only-of-type {\n",
       "        vertical-align: middle;\n",
       "    }\n",
       "\n",
       "    .dataframe tbody tr th {\n",
       "        vertical-align: top;\n",
       "    }\n",
       "\n",
       "    .dataframe thead th {\n",
       "        text-align: right;\n",
       "    }\n",
       "</style>\n",
       "<table border=\"1\" class=\"dataframe\">\n",
       "  <thead>\n",
       "    <tr style=\"text-align: right;\">\n",
       "      <th></th>\n",
       "      <th>text</th>\n",
       "      <th>label</th>\n",
       "    </tr>\n",
       "  </thead>\n",
       "  <tbody>\n",
       "    <tr>\n",
       "      <th>0</th>\n",
       "      <td>Here’s my rolling list of all the places that ...</td>\n",
       "      <td>0</td>\n",
       "    </tr>\n",
       "    <tr>\n",
       "      <th>1</th>\n",
       "      <td>restaurant details: website , IG I finally mad...</td>\n",
       "      <td>1</td>\n",
       "    </tr>\n",
       "    <tr>\n",
       "      <th>2</th>\n",
       "      <td>restaurant details: website , IG I am so glad ...</td>\n",
       "      <td>0</td>\n",
       "    </tr>\n",
       "    <tr>\n",
       "      <th>3</th>\n",
       "      <td>restaurant details : website , IG It’s now bee...</td>\n",
       "      <td>0</td>\n",
       "    </tr>\n",
       "    <tr>\n",
       "      <th>4</th>\n",
       "      <td>Other visits: Nov 2018 • April 2018 • Nov 2017...</td>\n",
       "      <td>1</td>\n",
       "    </tr>\n",
       "  </tbody>\n",
       "</table>\n",
       "</div>"
      ],
      "text/plain": [
       "                                                text  label\n",
       "0  Here’s my rolling list of all the places that ...      0\n",
       "1  restaurant details: website , IG I finally mad...      1\n",
       "2  restaurant details: website , IG I am so glad ...      0\n",
       "3  restaurant details : website , IG It’s now bee...      0\n",
       "4  Other visits: Nov 2018 • April 2018 • Nov 2017...      1"
      ]
     },
     "execution_count": 103,
     "metadata": {},
     "output_type": "execute_result"
    }
   ],
   "source": [
    "data = open('auto_scraper/results/dataset_no_marked_words.csv', 'r', encoding='utf8').read()\n",
    "labels, texts = [], []\n",
    "for i, line in enumerate(data.split(\"\\n\")):\n",
    "    content = line.split('|')\n",
    "    labels.append(content[0])\n",
    "    sentence = \" \".join(content[1:])\n",
    "#     texts.append(preprocess_text(sentence))\n",
    "    texts.append(sentence)\n",
    "\n",
    "df = pandas.DataFrame()\n",
    "df['text'] = texts\n",
    "df['label'] = labels\n",
    "df = df.astype({'label': 'int64'})\n",
    "df.head()"
   ]
  },
  {
   "cell_type": "markdown",
   "metadata": {
    "pycharm": {
     "name": "#%% md\n"
    }
   },
   "source": [
    "### Create new features"
   ]
  },
  {
   "cell_type": "code",
   "execution_count": 104,
   "metadata": {},
   "outputs": [
    {
     "name": "stdout",
     "output_type": "stream",
     "text": [
      "0 Here’s my rolling list of all the places that are present in my mind so far. I will update it periodically as I discover new things. It is by no means exhaustive, these are places I have been in the past, and a few of…\n"
     ]
    }
   ],
   "source": [
    "i = 0\n",
    "txt = df['text'][i]\n",
    "label = df['label'][i]\n",
    "sen = sp(txt)\n",
    "print(label, txt)\n",
    "ents = [x for x in sen.ents if x.label_ in ['PERSON', 'ORG']]\n",
    "for entity in ents:\n",
    "    print(entity.text + ' - ' + entity.label_ + ' - ' + str(spacy.explain(entity.label_)))"
   ]
  },
  {
   "cell_type": "code",
   "execution_count": 105,
   "metadata": {},
   "outputs": [],
   "source": [
    "df['entities'] = df['text'].apply(lambda x: [e.label_ for e in sp(x).ents])\n",
    "df['person'] = df['entities'].apply(lambda x: int('PERSON' in x))\n",
    "df['org'] = df['entities'].apply(lambda x: int('ORG' in x))\n",
    "df = df.drop(columns=['entities'], axis=1)"
   ]
  },
  {
   "cell_type": "code",
   "execution_count": 98,
   "metadata": {},
   "outputs": [
    {
     "data": {
      "text/html": [
       "<div>\n",
       "<style scoped>\n",
       "    .dataframe tbody tr th:only-of-type {\n",
       "        vertical-align: middle;\n",
       "    }\n",
       "\n",
       "    .dataframe tbody tr th {\n",
       "        vertical-align: top;\n",
       "    }\n",
       "\n",
       "    .dataframe thead th {\n",
       "        text-align: right;\n",
       "    }\n",
       "</style>\n",
       "<table border=\"1\" class=\"dataframe\">\n",
       "  <thead>\n",
       "    <tr style=\"text-align: right;\">\n",
       "      <th></th>\n",
       "      <th>text</th>\n",
       "      <th>label</th>\n",
       "      <th>person</th>\n",
       "      <th>org</th>\n",
       "    </tr>\n",
       "  </thead>\n",
       "  <tbody>\n",
       "    <tr>\n",
       "      <th>0</th>\n",
       "      <td>Here’s my rolling list of all the places that ...</td>\n",
       "      <td>0</td>\n",
       "      <td>0</td>\n",
       "      <td>0</td>\n",
       "    </tr>\n",
       "    <tr>\n",
       "      <th>1</th>\n",
       "      <td>restaurant details: website , IG I finally mad...</td>\n",
       "      <td>1</td>\n",
       "      <td>1</td>\n",
       "      <td>0</td>\n",
       "    </tr>\n",
       "    <tr>\n",
       "      <th>2</th>\n",
       "      <td>restaurant details: website , IG I am so glad ...</td>\n",
       "      <td>0</td>\n",
       "      <td>1</td>\n",
       "      <td>1</td>\n",
       "    </tr>\n",
       "  </tbody>\n",
       "</table>\n",
       "</div>"
      ],
      "text/plain": [
       "                                                text  label  person  org\n",
       "0  Here’s my rolling list of all the places that ...      0       0    0\n",
       "1  restaurant details: website , IG I finally mad...      1       1    0\n",
       "2  restaurant details: website , IG I am so glad ...      0       1    1"
      ]
     },
     "execution_count": 98,
     "metadata": {},
     "output_type": "execute_result"
    }
   ],
   "source": [
    "df.head(n=3)"
   ]
  },
  {
   "cell_type": "code",
   "execution_count": 120,
   "metadata": {},
   "outputs": [],
   "source": [
    "TN_person = len(df[(df['label'] == df['person']) & (df['label'] == 0)])\n",
    "TP_person = len(df[(df['label'] == df['person']) & (df['label'] == 1)])\n",
    "FN_person = len(df[(df['label'] != df['person']) & (df['label'] == 1)])\n",
    "FP_person = len(df[(df['label'] != df['person']) & (df['label'] == 0)])"
   ]
  },
  {
   "cell_type": "code",
   "execution_count": null,
   "outputs": [],
   "source": [
    "TN_org = len(df[(df['label'] == df['org']) & (df['label'] == 0)])\n",
    "TP_org= len(df[(df['label'] == df['org']) & (df['label'] == 1)])\n",
    "FN_org = len(df[(df['label'] != df['org']) & (df['label'] == 1)])\n",
    "FP_org = len(df[(df['label'] != df['org']) & (df['label'] == 0)])"
   ],
   "metadata": {
    "collapsed": false,
    "pycharm": {
     "name": "#%%\n"
    }
   }
  },
  {
   "cell_type": "code",
   "execution_count": null,
   "outputs": [],
   "source": [
    "TN_any = len(df[((df['label'] == df['org']) | (df['label'] == df['person'])) & (df['label'] == 0)])\n",
    "TP_any = len(df[((df['label'] == df['org']) | (df['label'] == df['person'])) & (df['label'] == 1)])\n",
    "FN_any = len(df[((df['label'] != df['org']) & (df['label'] != df['person'])) & (df['label'] == 1)])\n",
    "FP_any = len(df[((df['label'] != df['org']) | (df['label'] != df['person'])) & (df['label'] == 0)])"
   ],
   "metadata": {
    "collapsed": false,
    "pycharm": {
     "name": "#%%\n"
    }
   }
  },
  {
   "cell_type": "code",
   "execution_count": null,
   "outputs": [],
   "source": [
    "print(f\"PERSON = label: ACC={(TP_person + TN_person)/len(df):.2f} PREC={TP_person/(TP_person+FP_person):.2f} REC={TP_person/(TP_person+FP_person):.2f}\")\n",
    "print(f\"ORG = label: ACC={(TP_org + TN_org)/len(df):.2f} PREC={TP_org/(TP_org+FP_org):.2f} REC={TP_org/(TP_org+FP_org):.2f}\")\n",
    "print(f\"PERSON or ORG = label: ACC={(TP_any + TN_any)/len(df):.2f} PREC={TP_any/(TP_any + FP_any):.2f} REC={TP_any/(TP_any + FP_any):.2f}\")"
   ],
   "metadata": {
    "collapsed": false,
    "pycharm": {
     "name": "#%%\n"
    }
   }
  },
  {
   "cell_type": "markdown",
   "source": [
    "### Create model on the data"
   ],
   "metadata": {
    "collapsed": false
   }
  },
  {
   "cell_type": "code",
   "execution_count": null,
   "outputs": [],
   "source": [
    "train_x, valid_x, train_y, valid_y = model_selection.train_test_split(trainDF['text'], trainDF['label'])\n",
    "\n",
    "encoder = preprocessing.LabelEncoder()\n",
    "train_y = encoder.fit_transform(train_y)\n",
    "valid_y = encoder.fit_transform(valid_y)"
   ],
   "metadata": {
    "collapsed": false,
    "pycharm": {
     "name": "#%%\n"
    }
   }
  },
  {
   "cell_type": "code",
   "execution_count": null,
   "outputs": [],
   "source": [
    "def train_model(classifier, feature_vector_train, label, feature_vector_valid, is_neural_net=False):\n",
    "    classifier.fit(feature_vector_train, label)\n",
    "    predictions = classifier.predict(feature_vector_valid)\n",
    "    return metrics.accuracy_score(predictions, valid_y)"
   ],
   "metadata": {
    "collapsed": false,
    "pycharm": {
     "name": "#%%\n"
    }
   }
  },
  {
   "cell_type": "code",
   "execution_count": null,
   "outputs": [],
   "source": [
    "count_vect = CountVectorizer(analyzer='word', token_pattern=r'\\w{1,}')\n",
    "count_vect.fit(trainDF['text'])\n",
    "\n",
    "xtrain_count =  count_vect.transform(train_x)\n",
    "xvalid_count =  count_vect.transform(valid_x)"
   ],
   "metadata": {
    "collapsed": false,
    "pycharm": {
     "name": "#%%\n"
    }
   }
  },
  {
   "cell_type": "code",
   "execution_count": 118,
   "metadata": {},
   "outputs": [],
   "source": [
    "count_vect = CountVectorizer(analyzer='word', token_pattern=r'\\w{1,}')\n",
    "count_vect.fit(trainDF['text'])\n",
    "\n",
    "xtrain_count =  count_vect.transform(train_x)\n",
    "xvalid_count =  count_vect.transform(valid_x)"
   ]
  },
  {
   "cell_type": "code",
   "execution_count": 123,
   "metadata": {},
   "outputs": [],
   "source": [
    "TN_any = len(df[((df['label'] == df['org']) | (df['label'] == df['person'])) & (df['label'] == 0)])\n",
    "TP_any = len(df[((df['label'] == df['org']) | (df['label'] == df['person'])) & (df['label'] == 1)])\n",
    "FN_any = len(df[((df['label'] != df['org']) & (df['label'] != df['person'])) & (df['label'] == 1)])\n",
    "FP_any = len(df[((df['label'] != df['org']) | (df['label'] != df['person'])) & (df['label'] == 0)])"
   ]
  },
  {
   "cell_type": "code",
   "execution_count": 124,
   "metadata": {},
   "outputs": [
    {
     "name": "stdout",
     "output_type": "stream",
     "text": [
      "PERSON = label: ACC=0.67 PREC=0.64 REC=0.64\n",
      "ORG = label: ACC=0.56 PREC=0.57 REC=0.57\n",
      "PERSON or ORG = label: ACC=0.86 PREC=0.59 REC=0.59\n"
     ]
    }
   ],
   "source": [
    "print(f\"PERSON = label: ACC={(TP_person + TN_person)/len(df):.2f} PREC={TP_person/(TP_person+FP_person):.2f} REC={TP_person/(TP_person+FP_person):.2f}\")\n",
    "print(f\"ORG = label: ACC={(TP_org + TN_org)/len(df):.2f} PREC={TP_org/(TP_org+FP_org):.2f} REC={TP_org/(TP_org+FP_org):.2f}\")\n",
    "print(f\"PERSON or ORG = label: ACC={(TP_any + TN_any)/len(df):.2f} PREC={TP_any/(TP_any + FP_any):.2f} REC={TP_any/(TP_any + FP_any):.2f}\")"
   ]
  },
  {
   "cell_type": "markdown",
   "metadata": {},
   "source": [
    "### Create model on the data"
   ]
  },
  {
   "cell_type": "code",
   "execution_count": null,
   "metadata": {},
   "outputs": [],
   "source": [
    "train_x, valid_x, train_y, valid_y = model_selection.train_test_split(trainDF['text'], trainDF['label'])\n",
    "\n",
    "encoder = preprocessing.LabelEncoder()\n",
    "train_y = encoder.fit_transform(train_y)\n",
    "valid_y = encoder.fit_transform(valid_y)"
   ]
  },
  {
   "cell_type": "code",
   "execution_count": 90,
   "metadata": {},
   "outputs": [
    {
     "data": {
      "text/plain": [
       "array(['0', '1', ''], dtype=object)"
      ]
     },
     "execution_count": 90,
     "metadata": {},
     "output_type": "execute_result"
    }
   ],
   "source": [
    "def train_model(classifier, feature_vector_train, label, feature_vector_valid, is_neural_net=False):\n",
    "    classifier.fit(feature_vector_train, label)\n",
    "    predictions = classifier.predict(feature_vector_valid)\n",
    "    return metrics.accuracy_score(predictions, valid_y)"
   ]
  },
  {
   "cell_type": "code",
   "execution_count": null,
   "metadata": {},
   "outputs": [],
   "source": [
    "count_vect = CountVectorizer(analyzer='word', token_pattern=r'\\w{1,}')\n",
    "count_vect.fit(trainDF['text'])\n",
    "\n",
    "xtrain_count =  count_vect.transform(train_x)\n",
    "xvalid_count =  count_vect.transform(valid_x)"
   ]
  }
 ],
 "metadata": {
  "kernelspec": {
   "display_name": "Python 3",
   "language": "python",
   "name": "python3"
  },
  "language_info": {
   "codemirror_mode": {
    "name": "ipython",
    "version": 3
   },
   "file_extension": ".py",
   "mimetype": "text/x-python",
   "name": "python",
   "nbconvert_exporter": "python",
   "pygments_lexer": "ipython3",
   "version": "3.7.3"
  },
  "pycharm": {
   "stem_cell": {
    "cell_type": "raw",
    "source": [],
    "metadata": {
     "collapsed": false
    }
   }
  }
 },
 "nbformat": 4,
 "nbformat_minor": 1
}