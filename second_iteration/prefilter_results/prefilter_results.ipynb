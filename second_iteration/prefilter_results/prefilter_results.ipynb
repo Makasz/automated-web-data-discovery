{
 "cells": [
  {
   "cell_type": "code",
   "execution_count": 1,
   "metadata": {
    "collapsed": true,
    "pycharm": {
     "name": "#%%\n"
    }
   },
   "outputs": [],
   "source": [
    "import pandas as pd\n"
   ]
  },
  {
   "cell_type": "code",
   "execution_count": 2,
   "outputs": [],
   "source": [
    "allowed_specials = ['&', ' ', '`']\n",
    "path_to_file = \"../../auto_scraper/auto_scraper/results/result.csv\""
   ],
   "metadata": {
    "collapsed": false,
    "pycharm": {
     "name": "#%%\n"
    }
   }
  },
  {
   "cell_type": "code",
   "execution_count": 3,
   "outputs": [],
   "source": [
    "df = pd.read_csv(path_to_file, encoding='utf8', sep='|')\n",
    "df['words'] = df['text'].apply(lambda x: ''.join(l for l in x if l.isalnum() or l in allowed_specials).split(' '))\n",
    "df['words'] = df['words'].apply(lambda x: [o for o in x if o != ''])"
   ],
   "metadata": {
    "collapsed": false,
    "pycharm": {
     "name": "#%%\n"
    }
   }
  },
  {
   "cell_type": "code",
   "execution_count": 4,
   "outputs": [],
   "source": [
    "def create_tokens(line):\n",
    "    tokens = []\n",
    "    line_len = len(line)\n",
    "    i = 0\n",
    "    while i < line_len:\n",
    "        token = []\n",
    "        if line[i][0].isupper() or line[i][0] in allowed_specials:\n",
    "            token.append(line[i])\n",
    "            i+=1\n",
    "            for x in range(i, line_len):\n",
    "                if line[x][0].isupper() or line[i][0] in allowed_specials:\n",
    "                    token.append(line[i])\n",
    "                    i+=1\n",
    "                else:\n",
    "                    break\n",
    "        i+=1\n",
    "        if token:\n",
    "            tokens.append(token)\n",
    "    return tokens"
   ],
   "metadata": {
    "collapsed": false,
    "pycharm": {
     "name": "#%%\n"
    }
   }
  },
  {
   "cell_type": "code",
   "execution_count": 5,
   "outputs": [],
   "source": [
    "df['tokens_by_capital'] = df['words'].apply(create_tokens)"
   ],
   "metadata": {
    "collapsed": false,
    "pycharm": {
     "name": "#%%\n"
    }
   }
  },
  {
   "cell_type": "code",
   "execution_count": 6,
   "outputs": [
    {
     "data": {
      "text/plain": "[['Heres'], ['Mike', '&', 'Son'], ['Jeden', 'Dwa', 'Trzy']]"
     },
     "execution_count": 6,
     "metadata": {},
     "output_type": "execute_result"
    }
   ],
   "source": [
    "sample_text = ['Heres', 'my', 'rolling', 'Mike', '&', 'Son', 'the', 'places', 'Jeden', 'Dwa', 'Trzy']\n",
    "create_tokens(sample_text)"
   ],
   "metadata": {
    "collapsed": false,
    "pycharm": {
     "name": "#%%\n"
    }
   }
  },
  {
   "cell_type": "code",
   "execution_count": 7,
   "outputs": [
    {
     "name": "stdout",
     "output_type": "stream",
     "text": [
      "restaurant details: website , IG I finally made it here and can genuinely say that I totally believe all the fanfare bandied around Christophe Pele’s gem in the house of Haut Brion. His cuisine is one of modernity, subtlety and clarity. Decidedly French with flourishes… [['IG', 'I'], ['I'], ['Christophe', 'Peles'], ['Haut', 'Brion', 'His'], ['Decidedly', 'French']]\n"
     ]
    }
   ],
   "source": [
    "print(df['text'][1], df['tokens_by_capital'][1])"
   ],
   "metadata": {
    "collapsed": false,
    "pycharm": {
     "name": "#%%\n"
    }
   }
  }
 ],
 "metadata": {
  "kernelspec": {
   "display_name": "Python 3",
   "language": "python",
   "name": "python3"
  },
  "language_info": {
   "codemirror_mode": {
    "name": "ipython",
    "version": 2
   },
   "file_extension": ".py",
   "mimetype": "text/x-python",
   "name": "python",
   "nbconvert_exporter": "python",
   "pygments_lexer": "ipython2",
   "version": "2.7.6"
  }
 },
 "nbformat": 4,
 "nbformat_minor": 0
}