{
 "cells": [
  {
   "cell_type": "markdown",
   "source": [
    "https://medium.com/@manivannan_data/how-to-train-ner-with-custom-training-data-using-spacy-188e0e508c6"
   ],
   "metadata": {
    "collapsed": false,
    "pycharm": {
     "name": "#%% md\n"
    }
   }
  },
  {
   "cell_type": "code",
   "execution_count": 1,
   "outputs": [],
   "source": [
    "import pandas as pd\n",
    "import spacy\n",
    "import json\n",
    "import random\n",
    "import seaborn as sns\n",
    "import pandas as pd\n",
    "import matplotlib.pyplot as plt\n",
    "import numpy as np"
   ],
   "metadata": {
    "collapsed": false,
    "pycharm": {
     "name": "#%%\n"
    }
   }
  },
  {
   "cell_type": "code",
   "execution_count": 2,
   "outputs": [],
   "source": [
    "path_to_file = \"../data/labeled_data_1000rows.csv\"\n",
    "path_to_old_file = \"../data/scrpaing_result_raw.csv\""
   ],
   "metadata": {
    "collapsed": false,
    "pycharm": {
     "name": "#%%\n"
    }
   }
  },
  {
   "cell_type": "code",
   "execution_count": 3,
   "outputs": [],
   "source": [
    "df = pd.read_csv(path_to_file, encoding='utf8', sep='|', nrows=628, header=1, names=['text', 'entities'])\n",
    "df.astype('string')\n",
    "df = df.fillna('')\n",
    "df['entities'] = df['entities'].replace('restaurants', '')"
   ],
   "metadata": {
    "collapsed": false,
    "pycharm": {
     "name": "#%%\n"
    }
   }
  },
  {
   "cell_type": "code",
   "execution_count": 4,
   "outputs": [
    {
     "data": {
      "text/plain": "                                                text    entities\n0  I will update it periodically as I discover ne...            \n1  It is by no means exhaustive, these are places...            \n2  restaurant details: website , IG I finally mad...  Haut Brion\n3  His cuisine is one of modernity, subtlety and ...            \n4                  Decidedly French with flourishes…            ",
      "text/html": "<div>\n<style scoped>\n    .dataframe tbody tr th:only-of-type {\n        vertical-align: middle;\n    }\n\n    .dataframe tbody tr th {\n        vertical-align: top;\n    }\n\n    .dataframe thead th {\n        text-align: right;\n    }\n</style>\n<table border=\"1\" class=\"dataframe\">\n  <thead>\n    <tr style=\"text-align: right;\">\n      <th></th>\n      <th>text</th>\n      <th>entities</th>\n    </tr>\n  </thead>\n  <tbody>\n    <tr>\n      <th>0</th>\n      <td>I will update it periodically as I discover ne...</td>\n      <td></td>\n    </tr>\n    <tr>\n      <th>1</th>\n      <td>It is by no means exhaustive, these are places...</td>\n      <td></td>\n    </tr>\n    <tr>\n      <th>2</th>\n      <td>restaurant details: website , IG I finally mad...</td>\n      <td>Haut Brion</td>\n    </tr>\n    <tr>\n      <th>3</th>\n      <td>His cuisine is one of modernity, subtlety and ...</td>\n      <td></td>\n    </tr>\n    <tr>\n      <th>4</th>\n      <td>Decidedly French with flourishes…</td>\n      <td></td>\n    </tr>\n  </tbody>\n</table>\n</div>"
     },
     "execution_count": 4,
     "metadata": {},
     "output_type": "execute_result"
    }
   ],
   "source": [
    "df.head()"
   ],
   "metadata": {
    "collapsed": false,
    "pycharm": {
     "name": "#%%\n"
    }
   }
  },
  {
   "cell_type": "code",
   "execution_count": 5,
   "outputs": [],
   "source": [
    "df['number_of_entities'] = df['entities'].apply(lambda x: x.count(',') + 1 if x != '' else 0)"
   ],
   "metadata": {
    "collapsed": false,
    "pycharm": {
     "name": "#%%\n"
    }
   }
  },
  {
   "cell_type": "code",
   "execution_count": 6,
   "outputs": [
    {
     "data": {
      "text/plain": "                    text  entities\nnumber_of_entities                \n0                    547       547\n1                     70        70\n2                      9         9\n3                      1         1\n5                      1         1",
      "text/html": "<div>\n<style scoped>\n    .dataframe tbody tr th:only-of-type {\n        vertical-align: middle;\n    }\n\n    .dataframe tbody tr th {\n        vertical-align: top;\n    }\n\n    .dataframe thead th {\n        text-align: right;\n    }\n</style>\n<table border=\"1\" class=\"dataframe\">\n  <thead>\n    <tr style=\"text-align: right;\">\n      <th></th>\n      <th>text</th>\n      <th>entities</th>\n    </tr>\n    <tr>\n      <th>number_of_entities</th>\n      <th></th>\n      <th></th>\n    </tr>\n  </thead>\n  <tbody>\n    <tr>\n      <th>0</th>\n      <td>547</td>\n      <td>547</td>\n    </tr>\n    <tr>\n      <th>1</th>\n      <td>70</td>\n      <td>70</td>\n    </tr>\n    <tr>\n      <th>2</th>\n      <td>9</td>\n      <td>9</td>\n    </tr>\n    <tr>\n      <th>3</th>\n      <td>1</td>\n      <td>1</td>\n    </tr>\n    <tr>\n      <th>5</th>\n      <td>1</td>\n      <td>1</td>\n    </tr>\n  </tbody>\n</table>\n</div>"
     },
     "execution_count": 6,
     "metadata": {},
     "output_type": "execute_result"
    }
   ],
   "source": [
    "df.groupby(['number_of_entities']).count()"
   ],
   "metadata": {
    "collapsed": false,
    "pycharm": {
     "name": "#%%\n"
    }
   }
  },
  {
   "cell_type": "code",
   "execution_count": 17,
   "outputs": [
    {
     "data": {
      "text/plain": "<Figure size 432x288 with 1 Axes>",
      "image/png": "[encoded data removed]"
     },
     "metadata": {
      "needs_background": "light"
     },
     "output_type": "display_data"
    }
   ],
   "source": [
    "df2 = df.groupby(['number_of_entities']).count()\n",
    "df2.columns = ['Liczba encji w wierszu', 'Text', 'Liczba wierszy']\n",
    "df2\n",
    "sns.barplot(x='Liczba wierszy', y='Liczba encji w wierszu')\n",
    "\n",
    "sns_plot = sns.barplot(x='Liczba encji w tekście', y='Liczba wystąpień', data=df3)\n",
    "# sns_plot.set(yscale=\"log\")\n",
    "\n",
    "fig = sns_plot.get_figure()\n",
    "fig.savefig(\"../plots/dataset_histo.pdf\") "
   ],
   "metadata": {
    "collapsed": false,
    "pycharm": {
     "name": "#%%\n"
    }
   }
  }
 ],
 "metadata": {
  "kernelspec": {
   "display_name": "Python 3",
   "language": "python",
   "name": "python3"
  },
  "language_info": {
   "codemirror_mode": {
    "name": "ipython",
    "version": 2
   },
   "file_extension": ".py",
   "mimetype": "text/x-python",
   "name": "python",
   "nbconvert_exporter": "python",
   "pygments_lexer": "ipython2",
   "version": "2.7.6"
  }
 },
 "nbformat": 4,
 "nbformat_minor": 0
}