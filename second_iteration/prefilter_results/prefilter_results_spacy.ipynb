{
 "cells": [
  {
   "cell_type": "code",
   "execution_count": 2,
   "metadata": {
    "collapsed": true,
    "pycharm": {
     "name": "#%%\n"
    }
   },
   "outputs": [],
   "source": [
    "import pandas as pd\n",
    "import spacy\n",
    "from nltk.stem.porter import PorterStemmer\n",
    "from nltk.stem.snowball import SnowballStemmer"
   ]
  },
  {
   "cell_type": "code",
   "execution_count": 3,
   "outputs": [],
   "source": [
    "nlp = spacy.load('en_core_web_sm')\n",
    "allowed_specials = ['&', ' ', '`']\n",
    "path_to_file = \"../data/labeled_data_1000rows.csv\"\n",
    "path_to_old_file = \"../data/scrpaing_result_raw.csv\"\n"
   ],
   "metadata": {
    "collapsed": false,
    "pycharm": {
     "name": "#%%\n"
    }
   }
  },
  {
   "cell_type": "code",
   "execution_count": 4,
   "outputs": [
    {
     "data": {
      "text/plain": "                                                text    entities\n0  I will update it periodically as I discover ne...            \n1  It is by no means exhaustive, these are places...            \n2  restaurant details: website , IG I finally mad...  Haut Brion\n3  His cuisine is one of modernity, subtlety and ...            \n4                  Decidedly French with flourishes…            ",
      "text/html": "<div>\n<style scoped>\n    .dataframe tbody tr th:only-of-type {\n        vertical-align: middle;\n    }\n\n    .dataframe tbody tr th {\n        vertical-align: top;\n    }\n\n    .dataframe thead th {\n        text-align: right;\n    }\n</style>\n<table border=\"1\" class=\"dataframe\">\n  <thead>\n    <tr style=\"text-align: right;\">\n      <th></th>\n      <th>text</th>\n      <th>entities</th>\n    </tr>\n  </thead>\n  <tbody>\n    <tr>\n      <th>0</th>\n      <td>I will update it periodically as I discover ne...</td>\n      <td></td>\n    </tr>\n    <tr>\n      <th>1</th>\n      <td>It is by no means exhaustive, these are places...</td>\n      <td></td>\n    </tr>\n    <tr>\n      <th>2</th>\n      <td>restaurant details: website , IG I finally mad...</td>\n      <td>Haut Brion</td>\n    </tr>\n    <tr>\n      <th>3</th>\n      <td>His cuisine is one of modernity, subtlety and ...</td>\n      <td></td>\n    </tr>\n    <tr>\n      <th>4</th>\n      <td>Decidedly French with flourishes…</td>\n      <td></td>\n    </tr>\n  </tbody>\n</table>\n</div>"
     },
     "execution_count": 4,
     "metadata": {},
     "output_type": "execute_result"
    }
   ],
   "source": [
    "df = pd.read_csv(path_to_file, encoding='utf8', sep='|', nrows=628, header=1, names=['text', 'entities'])\n",
    "df.astype('string')\n",
    "df = df.fillna('')\n",
    "df['entities'] = df['entities'].replace('restaurants', '')\n",
    "df.head()\n"
   ],
   "metadata": {
    "collapsed": false,
    "pycharm": {
     "name": "#%%\n"
    }
   }
  },
  {
   "cell_type": "markdown",
   "source": [
    "### Reformat file\n",
    "Split rows with multiple sentences into separate rows (explode data). It might yield better results than long paragraphs."
   ],
   "metadata": {
    "collapsed": false
   }
  },
  {
   "cell_type": "code",
   "execution_count": null,
   "outputs": [],
   "source": [
    "pd.concat([pd.Series(row['category'], row['text'].split('. ')) for _, row in df.iterrows()])\\\n",
    "    .reset_index().to_csv('../data/labeled_data_1000rows.csv', sep='|', index=False)"
   ],
   "metadata": {
    "collapsed": false,
    "pycharm": {
     "name": "#%%\n"
    }
   }
  },
  {
   "cell_type": "markdown",
   "source": [
    "Read reformatted scraped dataset."
   ],
   "metadata": {
    "collapsed": false
   }
  },
  {
   "cell_type": "code",
   "execution_count": 5,
   "outputs": [
    {
     "data": {
      "text/plain": "                                                text    entities  \\\n0  I will update it periodically as I discover ne...               \n1  It is by no means exhaustive, these are places...               \n2  restaurant details: website , IG I finally mad...  Haut Brion   \n3  His cuisine is one of modernity, subtlety and ...               \n4                  Decidedly French with flourishes…               \n\n                                                 nlp  \n0  (I, will, update, it, periodically, as, I, dis...  \n1  (It, is, by, no, means, exhaustive, ,, these, ...  \n2  (restaurant, details, :, website, ,, IG, I, fi...  \n3  (His, cuisine, is, one, of, modernity, ,, subt...  \n4           (Decidedly, French, with, flourishes, …)  ",
      "text/html": "<div>\n<style scoped>\n    .dataframe tbody tr th:only-of-type {\n        vertical-align: middle;\n    }\n\n    .dataframe tbody tr th {\n        vertical-align: top;\n    }\n\n    .dataframe thead th {\n        text-align: right;\n    }\n</style>\n<table border=\"1\" class=\"dataframe\">\n  <thead>\n    <tr style=\"text-align: right;\">\n      <th></th>\n      <th>text</th>\n      <th>entities</th>\n      <th>nlp</th>\n    </tr>\n  </thead>\n  <tbody>\n    <tr>\n      <th>0</th>\n      <td>I will update it periodically as I discover ne...</td>\n      <td></td>\n      <td>(I, will, update, it, periodically, as, I, dis...</td>\n    </tr>\n    <tr>\n      <th>1</th>\n      <td>It is by no means exhaustive, these are places...</td>\n      <td></td>\n      <td>(It, is, by, no, means, exhaustive, ,, these, ...</td>\n    </tr>\n    <tr>\n      <th>2</th>\n      <td>restaurant details: website , IG I finally mad...</td>\n      <td>Haut Brion</td>\n      <td>(restaurant, details, :, website, ,, IG, I, fi...</td>\n    </tr>\n    <tr>\n      <th>3</th>\n      <td>His cuisine is one of modernity, subtlety and ...</td>\n      <td></td>\n      <td>(His, cuisine, is, one, of, modernity, ,, subt...</td>\n    </tr>\n    <tr>\n      <th>4</th>\n      <td>Decidedly French with flourishes…</td>\n      <td></td>\n      <td>(Decidedly, French, with, flourishes, …)</td>\n    </tr>\n  </tbody>\n</table>\n</div>"
     },
     "execution_count": 5,
     "metadata": {},
     "output_type": "execute_result"
    }
   ],
   "source": [
    "df['nlp'] = df['text'].apply(nlp)\n",
    "df.head()"
   ],
   "metadata": {
    "collapsed": false,
    "pycharm": {
     "name": "#%%\n"
    }
   }
  },
  {
   "cell_type": "markdown",
   "source": [
    "### NLTK Porter Stemmer"
   ],
   "metadata": {
    "collapsed": false,
    "pycharm": {
     "name": "#%% md\n"
    }
   }
  },
  {
   "cell_type": "code",
   "execution_count": 6,
   "outputs": [],
   "source": [
    "porter_stemmer = PorterStemmer()\n",
    "df['porter_stemms'] = df['nlp'].apply(lambda x: [porter_stemmer.stem(word.text) for word in x])\n"
   ],
   "metadata": {
    "collapsed": false,
    "pycharm": {
     "name": "#%% NLTK Porter Stemmer\n"
    }
   }
  },
  {
   "cell_type": "markdown",
   "source": [
    "### NLTK Snowball Stemmer"
   ],
   "metadata": {
    "collapsed": false
   }
  },
  {
   "cell_type": "code",
   "execution_count": 7,
   "outputs": [],
   "source": [
    "snowball_stemmer = SnowballStemmer(language='english')\n",
    "df['snowball_stemms'] = df['nlp'].apply(lambda x: [snowball_stemmer.stem(word.text) for word in x])"
   ],
   "metadata": {
    "collapsed": false,
    "pycharm": {
     "name": "#%% NLTK Snowball Stemmer\n"
    }
   }
  },
  {
   "cell_type": "markdown",
   "source": [
    "### SpaCy Lemmatizer"
   ],
   "metadata": {
    "collapsed": false
   }
  },
  {
   "cell_type": "code",
   "execution_count": 8,
   "outputs": [],
   "source": [
    "df['spacy_lemmas'] = df['nlp'].apply(lambda x: [word.lemma_ for word in x])"
   ],
   "metadata": {
    "collapsed": false,
    "pycharm": {
     "name": "#%% SpaCy Lemmatizer\n"
    }
   }
  },
  {
   "cell_type": "code",
   "execution_count": 9,
   "outputs": [
    {
     "data": {
      "text/plain": "                                                text    entities  \\\n0  I will update it periodically as I discover ne...               \n1  It is by no means exhaustive, these are places...               \n2  restaurant details: website , IG I finally mad...  Haut Brion   \n3  His cuisine is one of modernity, subtlety and ...               \n4                  Decidedly French with flourishes…               \n5  restaurant details: website , IG I am so glad ...               \n6  I’ve been waiting 3 years since my first taste...               \n7  restaurant details : website , IG It’s now bee...               \n8                                              Alex…               \n9  I really liked Viajante when it was around, th...               \n\n                                                 nlp  \\\n0  (I, will, update, it, periodically, as, I, dis...   \n1  (It, is, by, no, means, exhaustive, ,, these, ...   \n2  (restaurant, details, :, website, ,, IG, I, fi...   \n3  (His, cuisine, is, one, of, modernity, ,, subt...   \n4           (Decidedly, French, with, flourishes, …)   \n5  (restaurant, details, :, website, ,, IG, I, am...   \n6  (I, ’ve, been, waiting, 3, years, since, my, f...   \n7  (restaurant, details, :, website, ,, IG, It, ’...   \n8                                          (Alex, …)   \n9  (I, really, liked, Viajante, when, it, was, ar...   \n\n                                       porter_stemms  \\\n0  [I, will, updat, it, period, as, I, discov, ne...   \n1  [It, is, by, no, mean, exhaust, ,, these, are,...   \n2  [restaur, detail, :, websit, ,, IG, I, final, ...   \n3  [hi, cuisin, is, one, of, modern, ,, subtleti,...   \n4             [decidedli, french, with, flourish, …]   \n5  [restaur, detail, :, websit, ,, IG, I, am, so,...   \n6  [I, ’ve, been, wait, 3, year, sinc, my, first,...   \n7  [restaur, detail, :, websit, ,, IG, It, ’s, no...   \n8                                          [alex, …]   \n9  [I, realli, like, viajant, when, it, wa, aroun...   \n\n                                     snowball_stemms  \\\n0  [i, will, updat, it, period, as, i, discov, ne...   \n1  [it, is, by, no, mean, exhaust, ,, these, are,...   \n2  [restaur, detail, :, websit, ,, ig, i, final, ...   \n3  [his, cuisin, is, one, of, modern, ,, subtleti...   \n4                 [decid, french, with, flourish, …]   \n5  [restaur, detail, :, websit, ,, ig, i, am, so,...   \n6  [i, ve, been, wait, 3, year, sinc, my, first, ...   \n7  [restaur, detail, :, websit, ,, ig, it, ’s, no...   \n8                                          [alex, …]   \n9  [i, realli, like, viajant, when, it, was, arou...   \n\n                                        spacy_lemmas  \n0  [-PRON-, will, update, -PRON-, periodically, a...  \n1  [-PRON-, be, by, no, means, exhaustive, ,, the...  \n2  [restaurant, detail, :, website, ,, IG, -PRON-...  \n3  [-PRON-, cuisine, be, one, of, modernity, ,, s...  \n4             [decidedly, French, with, flourish, …]  \n5  [restaurant, detail, :, website, ,, IG, -PRON-...  \n6  [-PRON-, have, be, wait, 3, year, since, -PRON...  \n7  [restaurant, detail, :, website, ,, IG, -PRON-...  \n8                                          [Alex, …]  \n9  [-PRON-, really, like, Viajante, when, -PRON-,...  ",
      "text/html": "<div>\n<style scoped>\n    .dataframe tbody tr th:only-of-type {\n        vertical-align: middle;\n    }\n\n    .dataframe tbody tr th {\n        vertical-align: top;\n    }\n\n    .dataframe thead th {\n        text-align: right;\n    }\n</style>\n<table border=\"1\" class=\"dataframe\">\n  <thead>\n    <tr style=\"text-align: right;\">\n      <th></th>\n      <th>text</th>\n      <th>entities</th>\n      <th>nlp</th>\n      <th>porter_stemms</th>\n      <th>snowball_stemms</th>\n      <th>spacy_lemmas</th>\n    </tr>\n  </thead>\n  <tbody>\n    <tr>\n      <th>0</th>\n      <td>I will update it periodically as I discover ne...</td>\n      <td></td>\n      <td>(I, will, update, it, periodically, as, I, dis...</td>\n      <td>[I, will, updat, it, period, as, I, discov, ne...</td>\n      <td>[i, will, updat, it, period, as, i, discov, ne...</td>\n      <td>[-PRON-, will, update, -PRON-, periodically, a...</td>\n    </tr>\n    <tr>\n      <th>1</th>\n      <td>It is by no means exhaustive, these are places...</td>\n      <td></td>\n      <td>(It, is, by, no, means, exhaustive, ,, these, ...</td>\n      <td>[It, is, by, no, mean, exhaust, ,, these, are,...</td>\n      <td>[it, is, by, no, mean, exhaust, ,, these, are,...</td>\n      <td>[-PRON-, be, by, no, means, exhaustive, ,, the...</td>\n    </tr>\n    <tr>\n      <th>2</th>\n      <td>restaurant details: website , IG I finally mad...</td>\n      <td>Haut Brion</td>\n      <td>(restaurant, details, :, website, ,, IG, I, fi...</td>\n      <td>[restaur, detail, :, websit, ,, IG, I, final, ...</td>\n      <td>[restaur, detail, :, websit, ,, ig, i, final, ...</td>\n      <td>[restaurant, detail, :, website, ,, IG, -PRON-...</td>\n    </tr>\n    <tr>\n      <th>3</th>\n      <td>His cuisine is one of modernity, subtlety and ...</td>\n      <td></td>\n      <td>(His, cuisine, is, one, of, modernity, ,, subt...</td>\n      <td>[hi, cuisin, is, one, of, modern, ,, subtleti,...</td>\n      <td>[his, cuisin, is, one, of, modern, ,, subtleti...</td>\n      <td>[-PRON-, cuisine, be, one, of, modernity, ,, s...</td>\n    </tr>\n    <tr>\n      <th>4</th>\n      <td>Decidedly French with flourishes…</td>\n      <td></td>\n      <td>(Decidedly, French, with, flourishes, …)</td>\n      <td>[decidedli, french, with, flourish, …]</td>\n      <td>[decid, french, with, flourish, …]</td>\n      <td>[decidedly, French, with, flourish, …]</td>\n    </tr>\n    <tr>\n      <th>5</th>\n      <td>restaurant details: website , IG I am so glad ...</td>\n      <td></td>\n      <td>(restaurant, details, :, website, ,, IG, I, am...</td>\n      <td>[restaur, detail, :, websit, ,, IG, I, am, so,...</td>\n      <td>[restaur, detail, :, websit, ,, ig, i, am, so,...</td>\n      <td>[restaurant, detail, :, website, ,, IG, -PRON-...</td>\n    </tr>\n    <tr>\n      <th>6</th>\n      <td>I’ve been waiting 3 years since my first taste...</td>\n      <td></td>\n      <td>(I, ’ve, been, waiting, 3, years, since, my, f...</td>\n      <td>[I, ’ve, been, wait, 3, year, sinc, my, first,...</td>\n      <td>[i, ve, been, wait, 3, year, sinc, my, first, ...</td>\n      <td>[-PRON-, have, be, wait, 3, year, since, -PRON...</td>\n    </tr>\n    <tr>\n      <th>7</th>\n      <td>restaurant details : website , IG It’s now bee...</td>\n      <td></td>\n      <td>(restaurant, details, :, website, ,, IG, It, ’...</td>\n      <td>[restaur, detail, :, websit, ,, IG, It, ’s, no...</td>\n      <td>[restaur, detail, :, websit, ,, ig, it, ’s, no...</td>\n      <td>[restaurant, detail, :, website, ,, IG, -PRON-...</td>\n    </tr>\n    <tr>\n      <th>8</th>\n      <td>Alex…</td>\n      <td></td>\n      <td>(Alex, …)</td>\n      <td>[alex, …]</td>\n      <td>[alex, …]</td>\n      <td>[Alex, …]</td>\n    </tr>\n    <tr>\n      <th>9</th>\n      <td>I really liked Viajante when it was around, th...</td>\n      <td></td>\n      <td>(I, really, liked, Viajante, when, it, was, ar...</td>\n      <td>[I, realli, like, viajant, when, it, wa, aroun...</td>\n      <td>[i, realli, like, viajant, when, it, was, arou...</td>\n      <td>[-PRON-, really, like, Viajante, when, -PRON-,...</td>\n    </tr>\n  </tbody>\n</table>\n</div>"
     },
     "execution_count": 9,
     "metadata": {},
     "output_type": "execute_result"
    }
   ],
   "source": [
    "df.head(n=10)"
   ],
   "metadata": {
    "collapsed": false,
    "pycharm": {
     "name": "#%%\n"
    }
   }
  },
  {
   "cell_type": "markdown",
   "source": [
    "# Topic Modelling"
   ],
   "metadata": {
    "collapsed": false
   }
  },
  {
   "cell_type": "code",
   "execution_count": 52,
   "outputs": [],
   "source": [
    "from sklearn.feature_extraction.text import CountVectorizer\n",
    "from sklearn.decomposition import LatentDirichletAllocation\n",
    "topic_count = 4\n",
    "max_df = 0.9\n",
    "min_df = 2"
   ],
   "metadata": {
    "collapsed": false,
    "pycharm": {
     "name": "#%%\n"
    }
   }
  },
  {
   "cell_type": "code",
   "execution_count": 53,
   "outputs": [
    {
     "data": {
      "text/plain": "<628x983 sparse matrix of type '<class 'numpy.int64'>'\n\twith 3779 stored elements in Compressed Sparse Row format>"
     },
     "execution_count": 53,
     "metadata": {},
     "output_type": "execute_result"
    }
   ],
   "source": [
    "cv = CountVectorizer(max_df=max_df, min_df=min_df, stop_words='english')\n",
    "dtm = cv.fit_transform(df['text'])\n",
    "dtm"
   ],
   "metadata": {
    "collapsed": false,
    "pycharm": {
     "name": "#%%\n"
    }
   }
  },
  {
   "cell_type": "code",
   "execution_count": 54,
   "outputs": [
    {
     "data": {
      "text/plain": "array([[0.06393405, 0.06282545, 0.06347876, 0.80976174],\n       [0.06426956, 0.06345892, 0.06287559, 0.80939593],\n       [0.02561532, 0.92260457, 0.02654301, 0.0252371 ],\n       ...,\n       [0.03238678, 0.90431401, 0.03156743, 0.03173178],\n       [0.0291224 , 0.91422437, 0.02809705, 0.02855618],\n       [0.04312612, 0.86831815, 0.04297236, 0.04558337]])"
     },
     "execution_count": 54,
     "metadata": {},
     "output_type": "execute_result"
    }
   ],
   "source": [
    "lda = LatentDirichletAllocation(n_components=topic_count, random_state=2137)\n",
    "lda.fit_transform(dtm)"
   ],
   "metadata": {
    "collapsed": false,
    "pycharm": {
     "name": "#%%\n"
    }
   }
  },
  {
   "cell_type": "markdown",
   "source": [
    "Get 10 most important words for topics"
   ],
   "metadata": {
    "collapsed": false,
    "pycharm": {
     "name": "#%% md\n"
    }
   }
  },
  {
   "cell_type": "code",
   "execution_count": 47,
   "outputs": [
    {
     "name": "stdout",
     "output_type": "stream",
     "text": [
      "Topic 0\n",
      "great\n",
      "flavours\n",
      "cuisine\n",
      "dishes\n",
      "kitchen\n",
      "chef\n",
      "dish\n",
      "restaurant\n",
      "tom\n",
      "new\n",
      "Topic 1\n",
      "delicious\n",
      "good\n",
      "things\n",
      "london\n",
      "flavour\n",
      "meal\n",
      "day\n",
      "love\n",
      "food\n",
      "like\n"
     ]
    }
   ],
   "source": [
    "for index, topic in enumerate(lda.components_):\n",
    "    print(f\"Topic {index}\")\n",
    "    for i in topic.argsort()[-10:]:\n",
    "        print(cv.get_feature_names()[i])"
   ],
   "metadata": {
    "collapsed": false,
    "pycharm": {
     "name": "#%%\n"
    }
   }
  },
  {
   "cell_type": "markdown",
   "source": [
    "Get probaility of line belonging to a topic"
   ],
   "metadata": {
    "collapsed": false,
    "pycharm": {
     "name": "#%% md\n"
    }
   }
  },
  {
   "cell_type": "code",
   "execution_count": 56,
   "outputs": [
    {
     "data": {
      "text/plain": "array([0.06, 0.06, 0.06, 0.81])"
     },
     "execution_count": 56,
     "metadata": {},
     "output_type": "execute_result"
    }
   ],
   "source": [
    "topic_result = lda.transform(dtm)\n",
    "topic_result[0].round(2)"
   ],
   "metadata": {
    "collapsed": false,
    "pycharm": {
     "name": "#%%\n"
    }
   }
  },
  {
   "cell_type": "code",
   "execution_count": 57,
   "outputs": [
    {
     "data": {
      "text/plain": "                                                 text         entities  \\\n0   I will update it periodically as I discover ne...                    \n1   It is by no means exhaustive, these are places...                    \n2   restaurant details: website , IG I finally mad...       Haut Brion   \n3   His cuisine is one of modernity, subtlety and ...                    \n4                   Decidedly French with flourishes…                    \n5   restaurant details: website , IG I am so glad ...                    \n6   I’ve been waiting 3 years since my first taste...                    \n7   restaurant details : website , IG It’s now bee...                    \n8                                               Alex…                    \n9   I really liked Viajante when it was around, th...                    \n10  …It was with a heavy heart that I dined at Lon...         Londrino   \n11  It was one of my favourite new openings in Lon...                    \n12              Another year, another new Bao opening              Bao   \n13  As I understand, up till now, Erchen has been ...                    \n14  The last time I wrote about Tokyo tonkatsu, wa...   Tokyo tonkatsu   \n15  As you know I love tonkatsu and this year chos...                    \n16  Other visits: Nov 2018 • April 2018 • Nov 2017...         L’Arpege   \n17  Spontaneity and creativity reign supreme, Pass...                    \n18  other visits: May 2019 • April 2018 • Nov 2017...      Rue Varenne   \n19                                   The Celerisotto…  The Celerisotto   \n\n                                                  nlp  \\\n0   (I, will, update, it, periodically, as, I, dis...   \n1   (It, is, by, no, means, exhaustive, ,, these, ...   \n2   (restaurant, details, :, website, ,, IG, I, fi...   \n3   (His, cuisine, is, one, of, modernity, ,, subt...   \n4            (Decidedly, French, with, flourishes, …)   \n5   (restaurant, details, :, website, ,, IG, I, am...   \n6   (I, ’ve, been, waiting, 3, years, since, my, f...   \n7   (restaurant, details, :, website, ,, IG, It, ’...   \n8                                           (Alex, …)   \n9   (I, really, liked, Viajante, when, it, was, ar...   \n10  (…, It, was, with, a, heavy, heart, that, I, d...   \n11  (It, was, one, of, my, favourite, new, opening...   \n12     (Another, year, ,, another, new, Bao, opening)   \n13  (As, I, understand, ,, up, till, now, ,, Erche...   \n14  (The, last, time, I, wrote, about, Tokyo, tonk...   \n15  (As, you, know, I, love, tonkatsu, and, this, ...   \n16  (Other, visits, :, Nov, 2018, •, April, 2018, ...   \n17  (Spontaneity, and, creativity, reign, supreme,...   \n18  (other, visits, :, May, 2019, •, April, 2018, ...   \n19                              (The, Celerisotto, …)   \n\n                                        porter_stemms  \\\n0   [I, will, updat, it, period, as, I, discov, ne...   \n1   [It, is, by, no, mean, exhaust, ,, these, are,...   \n2   [restaur, detail, :, websit, ,, IG, I, final, ...   \n3   [hi, cuisin, is, one, of, modern, ,, subtleti,...   \n4              [decidedli, french, with, flourish, …]   \n5   [restaur, detail, :, websit, ,, IG, I, am, so,...   \n6   [I, ’ve, been, wait, 3, year, sinc, my, first,...   \n7   [restaur, detail, :, websit, ,, IG, It, ’s, no...   \n8                                           [alex, …]   \n9   [I, realli, like, viajant, when, it, wa, aroun...   \n10  […, It, wa, with, a, heavi, heart, that, I, di...   \n11  [It, wa, one, of, my, favourit, new, open, in,...   \n12            [anoth, year, ,, anoth, new, bao, open]   \n13  [As, I, understand, ,, up, till, now, ,, erche...   \n14  [the, last, time, I, wrote, about, tokyo, tonk...   \n15  [As, you, know, I, love, tonkatsu, and, thi, y...   \n16  [other, visit, :, nov, 2018, •, april, 2018,  ...   \n17  [spontan, and, creativ, reign, suprem, ,, pass...   \n18  [other, visit, :, may, 2019, •, april, 2018,  ...   \n19                              [the, celerisotto, …]   \n\n                                      snowball_stemms  \\\n0   [i, will, updat, it, period, as, i, discov, ne...   \n1   [it, is, by, no, mean, exhaust, ,, these, are,...   \n2   [restaur, detail, :, websit, ,, ig, i, final, ...   \n3   [his, cuisin, is, one, of, modern, ,, subtleti...   \n4                  [decid, french, with, flourish, …]   \n5   [restaur, detail, :, websit, ,, ig, i, am, so,...   \n6   [i, ve, been, wait, 3, year, sinc, my, first, ...   \n7   [restaur, detail, :, websit, ,, ig, it, ’s, no...   \n8                                           [alex, …]   \n9   [i, realli, like, viajant, when, it, was, arou...   \n10  […, it, was, with, a, heavi, heart, that, i, d...   \n11  [it, was, one, of, my, favourit, new, open, in...   \n12            [anoth, year, ,, anoth, new, bao, open]   \n13  [as, i, understand, ,, up, till, now, ,, erche...   \n14  [the, last, time, i, wrote, about, tokyo, tonk...   \n15  [as, you, know, i, love, tonkatsu, and, this, ...   \n16  [other, visit, :, nov, 2018, •, april, 2018,  ...   \n17  [spontan, and, creativ, reign, suprem, ,, pass...   \n18  [other, visit, :, may, 2019, •, april, 2018,  ...   \n19                              [the, celerisotto, …]   \n\n                                         spacy_lemmas  topic  \n0   [-PRON-, will, update, -PRON-, periodically, a...      3  \n1   [-PRON-, be, by, no, means, exhaustive, ,, the...      3  \n2   [restaurant, detail, :, website, ,, IG, -PRON-...      1  \n3   [-PRON-, cuisine, be, one, of, modernity, ,, s...      2  \n4              [decidedly, French, with, flourish, …]      0  \n5                                                 NaN      1  \n6                                                 NaN      3  \n7                                                 NaN      1  \n8                                                 NaN      1  \n9                                                 NaN      2  \n10                                                NaN      0  \n11                                                NaN      2  \n12                                                NaN      0  \n13                                                NaN      0  \n14                                                NaN      2  \n15                                                NaN      1  \n16                                                NaN      0  \n17                                                NaN      1  \n18                                                NaN      1  \n19                                                NaN      0  ",
      "text/html": "<div>\n<style scoped>\n    .dataframe tbody tr th:only-of-type {\n        vertical-align: middle;\n    }\n\n    .dataframe tbody tr th {\n        vertical-align: top;\n    }\n\n    .dataframe thead th {\n        text-align: right;\n    }\n</style>\n<table border=\"1\" class=\"dataframe\">\n  <thead>\n    <tr style=\"text-align: right;\">\n      <th></th>\n      <th>text</th>\n      <th>entities</th>\n      <th>nlp</th>\n      <th>porter_stemms</th>\n      <th>snowball_stemms</th>\n      <th>spacy_lemmas</th>\n      <th>topic</th>\n    </tr>\n  </thead>\n  <tbody>\n    <tr>\n      <th>0</th>\n      <td>I will update it periodically as I discover ne...</td>\n      <td></td>\n      <td>(I, will, update, it, periodically, as, I, dis...</td>\n      <td>[I, will, updat, it, period, as, I, discov, ne...</td>\n      <td>[i, will, updat, it, period, as, i, discov, ne...</td>\n      <td>[-PRON-, will, update, -PRON-, periodically, a...</td>\n      <td>3</td>\n    </tr>\n    <tr>\n      <th>1</th>\n      <td>It is by no means exhaustive, these are places...</td>\n      <td></td>\n      <td>(It, is, by, no, means, exhaustive, ,, these, ...</td>\n      <td>[It, is, by, no, mean, exhaust, ,, these, are,...</td>\n      <td>[it, is, by, no, mean, exhaust, ,, these, are,...</td>\n      <td>[-PRON-, be, by, no, means, exhaustive, ,, the...</td>\n      <td>3</td>\n    </tr>\n    <tr>\n      <th>2</th>\n      <td>restaurant details: website , IG I finally mad...</td>\n      <td>Haut Brion</td>\n      <td>(restaurant, details, :, website, ,, IG, I, fi...</td>\n      <td>[restaur, detail, :, websit, ,, IG, I, final, ...</td>\n      <td>[restaur, detail, :, websit, ,, ig, i, final, ...</td>\n      <td>[restaurant, detail, :, website, ,, IG, -PRON-...</td>\n      <td>1</td>\n    </tr>\n    <tr>\n      <th>3</th>\n      <td>His cuisine is one of modernity, subtlety and ...</td>\n      <td></td>\n      <td>(His, cuisine, is, one, of, modernity, ,, subt...</td>\n      <td>[hi, cuisin, is, one, of, modern, ,, subtleti,...</td>\n      <td>[his, cuisin, is, one, of, modern, ,, subtleti...</td>\n      <td>[-PRON-, cuisine, be, one, of, modernity, ,, s...</td>\n      <td>2</td>\n    </tr>\n    <tr>\n      <th>4</th>\n      <td>Decidedly French with flourishes…</td>\n      <td></td>\n      <td>(Decidedly, French, with, flourishes, …)</td>\n      <td>[decidedli, french, with, flourish, …]</td>\n      <td>[decid, french, with, flourish, …]</td>\n      <td>[decidedly, French, with, flourish, …]</td>\n      <td>0</td>\n    </tr>\n    <tr>\n      <th>5</th>\n      <td>restaurant details: website , IG I am so glad ...</td>\n      <td></td>\n      <td>(restaurant, details, :, website, ,, IG, I, am...</td>\n      <td>[restaur, detail, :, websit, ,, IG, I, am, so,...</td>\n      <td>[restaur, detail, :, websit, ,, ig, i, am, so,...</td>\n      <td>NaN</td>\n      <td>1</td>\n    </tr>\n    <tr>\n      <th>6</th>\n      <td>I’ve been waiting 3 years since my first taste...</td>\n      <td></td>\n      <td>(I, ’ve, been, waiting, 3, years, since, my, f...</td>\n      <td>[I, ’ve, been, wait, 3, year, sinc, my, first,...</td>\n      <td>[i, ve, been, wait, 3, year, sinc, my, first, ...</td>\n      <td>NaN</td>\n      <td>3</td>\n    </tr>\n    <tr>\n      <th>7</th>\n      <td>restaurant details : website , IG It’s now bee...</td>\n      <td></td>\n      <td>(restaurant, details, :, website, ,, IG, It, ’...</td>\n      <td>[restaur, detail, :, websit, ,, IG, It, ’s, no...</td>\n      <td>[restaur, detail, :, websit, ,, ig, it, ’s, no...</td>\n      <td>NaN</td>\n      <td>1</td>\n    </tr>\n    <tr>\n      <th>8</th>\n      <td>Alex…</td>\n      <td></td>\n      <td>(Alex, …)</td>\n      <td>[alex, …]</td>\n      <td>[alex, …]</td>\n      <td>NaN</td>\n      <td>1</td>\n    </tr>\n    <tr>\n      <th>9</th>\n      <td>I really liked Viajante when it was around, th...</td>\n      <td></td>\n      <td>(I, really, liked, Viajante, when, it, was, ar...</td>\n      <td>[I, realli, like, viajant, when, it, wa, aroun...</td>\n      <td>[i, realli, like, viajant, when, it, was, arou...</td>\n      <td>NaN</td>\n      <td>2</td>\n    </tr>\n    <tr>\n      <th>10</th>\n      <td>…It was with a heavy heart that I dined at Lon...</td>\n      <td>Londrino</td>\n      <td>(…, It, was, with, a, heavy, heart, that, I, d...</td>\n      <td>[…, It, wa, with, a, heavi, heart, that, I, di...</td>\n      <td>[…, it, was, with, a, heavi, heart, that, i, d...</td>\n      <td>NaN</td>\n      <td>0</td>\n    </tr>\n    <tr>\n      <th>11</th>\n      <td>It was one of my favourite new openings in Lon...</td>\n      <td></td>\n      <td>(It, was, one, of, my, favourite, new, opening...</td>\n      <td>[It, wa, one, of, my, favourit, new, open, in,...</td>\n      <td>[it, was, one, of, my, favourit, new, open, in...</td>\n      <td>NaN</td>\n      <td>2</td>\n    </tr>\n    <tr>\n      <th>12</th>\n      <td>Another year, another new Bao opening</td>\n      <td>Bao</td>\n      <td>(Another, year, ,, another, new, Bao, opening)</td>\n      <td>[anoth, year, ,, anoth, new, bao, open]</td>\n      <td>[anoth, year, ,, anoth, new, bao, open]</td>\n      <td>NaN</td>\n      <td>0</td>\n    </tr>\n    <tr>\n      <th>13</th>\n      <td>As I understand, up till now, Erchen has been ...</td>\n      <td></td>\n      <td>(As, I, understand, ,, up, till, now, ,, Erche...</td>\n      <td>[As, I, understand, ,, up, till, now, ,, erche...</td>\n      <td>[as, i, understand, ,, up, till, now, ,, erche...</td>\n      <td>NaN</td>\n      <td>0</td>\n    </tr>\n    <tr>\n      <th>14</th>\n      <td>The last time I wrote about Tokyo tonkatsu, wa...</td>\n      <td>Tokyo tonkatsu</td>\n      <td>(The, last, time, I, wrote, about, Tokyo, tonk...</td>\n      <td>[the, last, time, I, wrote, about, tokyo, tonk...</td>\n      <td>[the, last, time, i, wrote, about, tokyo, tonk...</td>\n      <td>NaN</td>\n      <td>2</td>\n    </tr>\n    <tr>\n      <th>15</th>\n      <td>As you know I love tonkatsu and this year chos...</td>\n      <td></td>\n      <td>(As, you, know, I, love, tonkatsu, and, this, ...</td>\n      <td>[As, you, know, I, love, tonkatsu, and, thi, y...</td>\n      <td>[as, you, know, i, love, tonkatsu, and, this, ...</td>\n      <td>NaN</td>\n      <td>1</td>\n    </tr>\n    <tr>\n      <th>16</th>\n      <td>Other visits: Nov 2018 • April 2018 • Nov 2017...</td>\n      <td>L’Arpege</td>\n      <td>(Other, visits, :, Nov, 2018, •, April, 2018, ...</td>\n      <td>[other, visit, :, nov, 2018, •, april, 2018,  ...</td>\n      <td>[other, visit, :, nov, 2018, •, april, 2018,  ...</td>\n      <td>NaN</td>\n      <td>0</td>\n    </tr>\n    <tr>\n      <th>17</th>\n      <td>Spontaneity and creativity reign supreme, Pass...</td>\n      <td></td>\n      <td>(Spontaneity, and, creativity, reign, supreme,...</td>\n      <td>[spontan, and, creativ, reign, suprem, ,, pass...</td>\n      <td>[spontan, and, creativ, reign, suprem, ,, pass...</td>\n      <td>NaN</td>\n      <td>1</td>\n    </tr>\n    <tr>\n      <th>18</th>\n      <td>other visits: May 2019 • April 2018 • Nov 2017...</td>\n      <td>Rue Varenne</td>\n      <td>(other, visits, :, May, 2019, •, April, 2018, ...</td>\n      <td>[other, visit, :, may, 2019, •, april, 2018,  ...</td>\n      <td>[other, visit, :, may, 2019, •, april, 2018,  ...</td>\n      <td>NaN</td>\n      <td>1</td>\n    </tr>\n    <tr>\n      <th>19</th>\n      <td>The Celerisotto…</td>\n      <td>The Celerisotto</td>\n      <td>(The, Celerisotto, …)</td>\n      <td>[the, celerisotto, …]</td>\n      <td>[the, celerisotto, …]</td>\n      <td>NaN</td>\n      <td>0</td>\n    </tr>\n  </tbody>\n</table>\n</div>"
     },
     "execution_count": 57,
     "metadata": {},
     "output_type": "execute_result"
    }
   ],
   "source": [
    "df['topic'] = topic_result.argmax(axis=1)\n",
    "df.head(n=20)"
   ],
   "metadata": {
    "collapsed": false,
    "pycharm": {
     "name": "#%%\n"
    }
   }
  },
  {
   "cell_type": "code",
   "execution_count": 1,
   "outputs": [
    {
     "ename": "NameError",
     "evalue": "name 'topic_count' is not defined",
     "output_type": "error",
     "traceback": [
      "\u001B[1;31m---------------------------------------------------------------------------\u001B[0m",
      "\u001B[1;31mNameError\u001B[0m                                 Traceback (most recent call last)",
      "\u001B[1;32m<ipython-input-1-a98c066dbdbf>\u001B[0m in \u001B[0;36m<module>\u001B[1;34m\u001B[0m\n\u001B[1;32m----> 1\u001B[1;33m \u001B[1;32mfor\u001B[0m \u001B[0mtopic_index\u001B[0m \u001B[1;32min\u001B[0m \u001B[0mrange\u001B[0m\u001B[1;33m(\u001B[0m\u001B[0mtopic_count\u001B[0m\u001B[1;33m)\u001B[0m\u001B[1;33m:\u001B[0m\u001B[1;33m\u001B[0m\u001B[1;33m\u001B[0m\u001B[0m\n\u001B[0m\u001B[0;32m      2\u001B[0m     \u001B[0mtopic_row_count\u001B[0m \u001B[1;33m=\u001B[0m \u001B[0mdf\u001B[0m\u001B[1;33m[\u001B[0m\u001B[0mdf\u001B[0m\u001B[1;33m[\u001B[0m\u001B[1;34m'topic'\u001B[0m\u001B[1;33m]\u001B[0m \u001B[1;33m==\u001B[0m \u001B[0mtopic_index\u001B[0m\u001B[1;33m]\u001B[0m\u001B[1;33m.\u001B[0m\u001B[0mcount\u001B[0m\u001B[1;33m(\u001B[0m\u001B[1;33m)\u001B[0m\u001B[1;33m[\u001B[0m\u001B[1;34m'text'\u001B[0m\u001B[1;33m]\u001B[0m\u001B[1;33m\u001B[0m\u001B[1;33m\u001B[0m\u001B[0m\n\u001B[0;32m      3\u001B[0m     \u001B[0mentity_row_count\u001B[0m \u001B[1;33m=\u001B[0m \u001B[0mdf\u001B[0m\u001B[1;33m[\u001B[0m\u001B[1;33m(\u001B[0m\u001B[0mdf\u001B[0m\u001B[1;33m[\u001B[0m\u001B[1;34m'entities'\u001B[0m\u001B[1;33m]\u001B[0m \u001B[1;33m!=\u001B[0m \u001B[1;34m''\u001B[0m\u001B[1;33m)\u001B[0m \u001B[1;33m&\u001B[0m \u001B[1;33m(\u001B[0m\u001B[0mdf\u001B[0m\u001B[1;33m[\u001B[0m\u001B[1;34m'topic'\u001B[0m\u001B[1;33m]\u001B[0m \u001B[1;33m==\u001B[0m \u001B[0mtopic_index\u001B[0m\u001B[1;33m)\u001B[0m\u001B[1;33m]\u001B[0m\u001B[1;33m.\u001B[0m\u001B[0mcount\u001B[0m\u001B[1;33m(\u001B[0m\u001B[1;33m)\u001B[0m\u001B[1;33m[\u001B[0m\u001B[1;34m'entities'\u001B[0m\u001B[1;33m]\u001B[0m\u001B[1;33m\u001B[0m\u001B[1;33m\u001B[0m\u001B[0m\n\u001B[0;32m      4\u001B[0m     \u001B[0mprint\u001B[0m\u001B[1;33m(\u001B[0m\u001B[1;34mf\"Topic {topic_index}: {entity_row_count}/{topic_row_count}\"\u001B[0m\u001B[1;33m)\u001B[0m\u001B[1;33m\u001B[0m\u001B[1;33m\u001B[0m\u001B[0m\n\u001B[0;32m      5\u001B[0m \u001B[1;33m\u001B[0m\u001B[0m\n",
      "\u001B[1;31mNameError\u001B[0m: name 'topic_count' is not defined"
     ]
    }
   ],
   "source": [
    "for topic_index in range(topic_count):\n",
    "    topic_row_count = df[df['topic'] == topic_index].count()['text']\n",
    "    entity_row_count = df[(df['entities'] != '') & (df['topic'] == topic_index)].count()['entities']\n",
    "    print(f\"Topic {topic_index}: {entity_row_count}/{topic_row_count}\")\n"
   ],
   "metadata": {
    "collapsed": false,
    "pycharm": {
     "name": "#%%\n"
    }
   }
  },
  {
   "cell_type": "markdown",
   "source": [
    "None of the found topics cover significant majority of rows containing entity."
   ],
   "metadata": {
    "collapsed": false,
    "pycharm": {
     "name": "#%% md\n"
    }
   }
  },
  {
   "cell_type": "code",
   "execution_count": 69,
   "outputs": [
    {
     "name": "stdout",
     "output_type": "stream",
     "text": [
      "topic_count:2 max_df:0.6 min_df:1\n",
      "Topic 0: 34/312\n",
      "Topic 1: 47/316\n",
      "topic_count:2 max_df:0.6 min_df:2\n",
      "Topic 0: 55/307\n",
      "Topic 1: 26/321\n",
      "topic_count:2 max_df:0.6 min_df:3\n",
      "Topic 0: 31/351\n",
      "Topic 1: 50/277\n",
      "topic_count:2 max_df:0.6 min_df:4\n",
      "Topic 0: 30/352\n",
      "Topic 1: 51/276\n",
      "topic_count:2 max_df:0.7 min_df:1\n",
      "Topic 0: 34/312\n",
      "Topic 1: 47/316\n",
      "topic_count:2 max_df:0.7 min_df:2\n",
      "Topic 0: 55/307\n",
      "Topic 1: 26/321\n",
      "topic_count:2 max_df:0.7 min_df:3\n",
      "Topic 0: 31/351\n",
      "Topic 1: 50/277\n",
      "topic_count:2 max_df:0.7 min_df:4\n",
      "Topic 0: 30/352\n",
      "Topic 1: 51/276\n",
      "topic_count:2 max_df:0.75 min_df:1\n",
      "Topic 0: 34/312\n",
      "Topic 1: 47/316\n",
      "topic_count:2 max_df:0.75 min_df:2\n",
      "Topic 0: 55/307\n",
      "Topic 1: 26/321\n",
      "topic_count:2 max_df:0.75 min_df:3\n",
      "Topic 0: 31/351\n",
      "Topic 1: 50/277\n",
      "topic_count:2 max_df:0.75 min_df:4\n",
      "Topic 0: 30/352\n",
      "Topic 1: 51/276\n",
      "topic_count:2 max_df:0.8 min_df:1\n",
      "Topic 0: 34/312\n",
      "Topic 1: 47/316\n",
      "topic_count:2 max_df:0.8 min_df:2\n",
      "Topic 0: 55/307\n",
      "Topic 1: 26/321\n",
      "topic_count:2 max_df:0.8 min_df:3\n",
      "Topic 0: 31/351\n",
      "Topic 1: 50/277\n",
      "topic_count:2 max_df:0.8 min_df:4\n",
      "Topic 0: 30/352\n",
      "Topic 1: 51/276\n",
      "topic_count:2 max_df:0.85 min_df:1\n",
      "Topic 0: 34/312\n",
      "Topic 1: 47/316\n",
      "topic_count:2 max_df:0.85 min_df:2\n",
      "Topic 0: 55/307\n",
      "Topic 1: 26/321\n",
      "topic_count:2 max_df:0.85 min_df:3\n",
      "Topic 0: 31/351\n",
      "Topic 1: 50/277\n",
      "topic_count:2 max_df:0.85 min_df:4\n",
      "Topic 0: 30/352\n",
      "Topic 1: 51/276\n",
      "topic_count:2 max_df:0.9 min_df:1\n",
      "Topic 0: 34/312\n",
      "Topic 1: 47/316\n",
      "topic_count:2 max_df:0.9 min_df:2\n",
      "Topic 0: 55/307\n",
      "Topic 1: 26/321\n",
      "topic_count:2 max_df:0.9 min_df:3\n",
      "Topic 0: 31/351\n",
      "Topic 1: 50/277\n",
      "topic_count:2 max_df:0.9 min_df:4\n",
      "Topic 0: 30/352\n",
      "Topic 1: 51/276\n"
     ]
    }
   ],
   "source": [
    "for topic_count in [2]:\n",
    "    for max_df in [0.6, 0.7, 0.75, 0.8, 0.85, 0.9]:\n",
    "        for min_df in [1, 2, 3, 4]:\n",
    "            print(f\"topic_count:{topic_count} max_df:{max_df} min_df:{min_df}\")\n",
    "            cv = CountVectorizer(max_df=max_df, min_df=min_df, stop_words='english')\n",
    "            dtm = cv.fit_transform(df['text'])\n",
    "            lda = LatentDirichletAllocation(n_components=topic_count, random_state=2137)\n",
    "            lda.fit_transform(dtm)\n",
    "            topic_result = lda.transform(dtm)\n",
    "            df['topic'] = topic_result.argmax(axis=1)\n",
    "            for topic_index in range(topic_count):\n",
    "                topic_row_count = df[df['topic'] == topic_index].count()['text']\n",
    "                entity_row_count = df[(df['entities'] != '') & (df['topic'] == topic_index)].count()['entities']\n",
    "                print(f\"Topic {topic_index}: {entity_row_count}/{topic_row_count}\")\n"
   ],
   "metadata": {
    "collapsed": false,
    "pycharm": {
     "name": "#%%\n"
    }
   }
  },
  {
   "cell_type": "markdown",
   "source": [
    "Use whitelist and blacklsit to select relevant sentences."
   ],
   "metadata": {
    "collapsed": false
   }
  },
  {
   "cell_type": "code",
   "execution_count": 75,
   "outputs": [],
   "source": [
    "whitelist = [' at ', 'in the', 'crew', 'restaurant', 'residency', 'resident', 'concept', 'launch', 'open', 'chef',\n",
    "             'acclaimed', 'partnership', 'place', 'priced', 'pricey', 'cafe', 'bar ', 'spot', 'location', 'instagram',\n",
    "             'affordable', 'food heaven', 'list', 'highlight', 'visit', 'by the', 'I love', 'At ', 'discover']\n"
   ],
   "metadata": {
    "collapsed": false,
    "pycharm": {
     "name": "#%%\n"
    }
   }
  },
  {
   "cell_type": "markdown",
   "source": [
    "Use lists on raw text."
   ],
   "metadata": {
    "collapsed": false
   }
  },
  {
   "cell_type": "code",
   "execution_count": 79,
   "outputs": [
    {
     "name": "stdout",
     "output_type": "stream",
     "text": [
      "The last time I wrote about Tokyo tonkatsu, was a back to back post on two of Tokyo’s best – Narikura and Tonta\n",
      "The Celerisotto…\n",
      "Corbin & King recorded turnover exceeding £40m in 2018, remaining “strong in a competitive environment”\n",
      "Accounts lodged with Companies House cover the nine months from […]\n",
      "In Turkish culture, the term Baraka translates to an old wooden home\n",
      "2120 W Broadway, Vancouver Tel: (604) 288-2941 Web: http://gyopara.com Instagram @gyopara Advice: No reservations, server will seat you on arrival or take your name for the next table\n",
      "1426 W 8th Ave, Vancouver Tel:  (604) 800-0211 Web: https://mixxbao.com/ Instagram @mixxbao Specializing in Taiwanese inspired snacks and comfort food dishes, Chef Merry and her team has been making delicious dumplings, soups and sandwiches in this South Granville locale\n",
      "1739 Robson St, Vancouver Tel: (604) 673-5688 Web: https://noodlearts.com/ Instagram: @noodlearts_vancouver Advice:Open daily for lunch and dinner\n",
      "509 Main Street, Vancouver Tel: (604) 685-5623 Web: https://warathai.ca/ Instagram @warathaieatery Advice: Walk-ins welcome\n",
      "221 Abbott Street, Vancouver Tel: (604) 367-6126 Web: https://praguery.com/ Instagram @thepraguery Advice: Counter service\n",
      "You’d think that the Glowbal Restaurant Group would have things figured out by now\n",
      "Despite having a name similar to that of David Chang’s Momofuku (“lucky peach” in Japanese), Torafuku (“lucky tiger”) is wholly original.\n",
      "The clams were at Ossie’s Lunch\n",
      "Having started here since the start of 2019, he has settled in with the new kitchen, new team and rather refreshingly his cuisine is now evolving, or more precisely, left unshackled by Bonhams’ rather conservative clientele tastes\n",
      "If you know Hibiscus, then you know Claude has never been afraid to push the boundaries\n",
      "Hamada san’s Ozaki (as in Mr Ozaki’s beef to be exact\n",
      "Wagyumafia is still a members club of sorts in Tokyo, now expanded to a few more outlets both in Tokyo as well as overseas in HK\n",
      "64 409 138 17\n"
     ]
    }
   ],
   "source": [
    "TP, TN, FP, FN = 0, 0, 0, 0\n",
    "for index, row in df.iterrows():\n",
    "    positive = False\n",
    "    for word in whitelist:\n",
    "        if word in row['text'] and row['entities'] != '':\n",
    "            TP += 1\n",
    "            positive = True\n",
    "            break\n",
    "        if word in row['text'] and row['entities'] == '':\n",
    "            FP += 1\n",
    "            positive = True\n",
    "            break\n",
    "    if not positive and row['entities'] == '':\n",
    "        TN += 1\n",
    "    if not positive and row['entities'] != '':\n",
    "        FN += 1\n",
    "        print(row['text'])\n",
    "print(TP, TN, FP, FN)\n",
    "array = [[TP, TN],\n",
    "        [FP, FN]]\n",
    "plot = make_confusion_matrix(np.array(array),\n",
    "                      group_names=labels,\n",
    "                      categories=categories,\n",
    "                      filename='../plots/raw_text_matrix_prefilter.png')"
   ],
   "metadata": {
    "collapsed": false,
    "pycharm": {
     "name": "#%%\n"
    }
   }
  },
  {
   "cell_type": "markdown",
   "source": [
    "Use lists on porter stemms."
   ],
   "metadata": {
    "collapsed": false
   }
  },
  {
   "cell_type": "code",
   "execution_count": null,
   "outputs": [],
   "source": [
    "whitelist_porter_stemms = [porter_stemmer.stem(word).strip() for word in whitelist]\n",
    "print(whitelist_porter_stemms)\n",
    "TP, TN, FP, FN = 0, 0, 0, 0\n",
    "for index, row in df.iterrows():\n",
    "    positive = False\n",
    "    for word in whitelist_porter_stemms:\n",
    "        if word in row['porter_stemms'] and row['entities'] != '':\n",
    "            TP += 1\n",
    "            positive = True\n",
    "            break\n",
    "        if word in row['porter_stemms'] and row['entities'] == '':\n",
    "            FP += 1\n",
    "            positive = True\n",
    "            break\n",
    "    if not positive and row['entities'] == '':\n",
    "        TN += 1\n",
    "    if not positive and row['entities'] != '':\n",
    "        FN += 1\n",
    "        print(row['porter_stemms'])\n",
    "print(TP, TN, FP, FN)\n",
    "array = [[TP, TN],\n",
    "        [FP, FN]]\n",
    "plot = make_confusion_matrix(np.array(array),\n",
    "                      group_names=labels,\n",
    "                      categories=categories,\n",
    "                      filename='../plots/porter_matrix_prefilter.png')"
   ],
   "metadata": {
    "collapsed": false,
    "pycharm": {
     "name": "#%%\n"
    }
   }
  },
  {
   "cell_type": "markdown",
   "source": [
    "Use lists on snowball stemms."
   ],
   "metadata": {
    "collapsed": false
   }
  },
  {
   "cell_type": "code",
   "execution_count": null,
   "outputs": [],
   "source": [
    "whitelist_snowball_stemms = [porter_stemmer.stem(word).strip() for word in whitelist]\n",
    "print(whitelist_snowball_stemms)\n",
    "TP, TN, FP, FN = 0, 0, 0, 0\n",
    "for index, row in df.iterrows():\n",
    "    positive = False\n",
    "    for word in whitelist_snowball_stemms:\n",
    "        if word in row['snowball_stemms'] and row['entities'] != '':\n",
    "            TP += 1\n",
    "            positive = True\n",
    "            break\n",
    "        if word in row['snowball_stemms'] and row['entities'] == '':\n",
    "            FP += 1\n",
    "            positive = True\n",
    "            break\n",
    "    if not positive and row['entities'] == '':\n",
    "        TN += 1\n",
    "    if not positive and row['entities'] != '':\n",
    "        FN += 1\n",
    "        print(row['snowball_stemms'])\n",
    "print(TP, TN, FP, FN)\n",
    "array = [[TP, TN],\n",
    "        [FP, FN]]\n",
    "plot = make_confusion_matrix(np.array(array),\n",
    "                      group_names=labels,\n",
    "                      categories=categories,\n",
    "                      filename='../plots/snowball_matrix_prefilter.png')\n"
   ],
   "metadata": {
    "collapsed": false,
    "pycharm": {
     "name": "#%%\n"
    }
   }
  },
  {
   "cell_type": "markdown",
   "source": [
    "Use regexps and other structural characteristics."
   ],
   "metadata": {
    "collapsed": false
   }
  },
  {
   "cell_type": "code",
   "execution_count": 21,
   "outputs": [
    {
     "name": "stdout",
     "output_type": "stream",
     "text": [
      "81 342 205 0\n"
     ]
    }
   ],
   "source": [
    "def is_relevant(word_list):\n",
    "    word_list = word_list[1:]\n",
    "    if any([word[0].isupper() for word in word_list if len(word) > 2]):\n",
    "        return True\n",
    "    return False\n",
    "\n",
    "TP, TN, FP, FN = 0, 0, 0, 0\n",
    "for index, row in df.iterrows():\n",
    "    if is_relevant(row['spacy_lemmas']) and row['entities'] != '':\n",
    "        TP += 1\n",
    "    elif is_relevant(row['spacy_lemmas']) and row['entities'] == '':\n",
    "        FP += 1\n",
    "    elif not is_relevant(row['spacy_lemmas']) and row['entities'] == '':\n",
    "        TN += 1\n",
    "    elif not is_relevant(row['spacy_lemmas']) and row['entities'] != '':\n",
    "        FN += 1\n",
    "print(TP, TN, FP, FN)\n",
    "array = [[TP, TN],\n",
    "        [FP, FN]]\n",
    "plot = make_confusion_matrix(np.array(array),\n",
    "                      group_names=labels,\n",
    "                      categories=categories,\n",
    "                      filename='../plots/rules_matrix_prefilter.png')"
   ],
   "metadata": {
    "collapsed": false,
    "pycharm": {
     "name": "#%%\n"
    }
   }
  },
  {
   "cell_type": "markdown",
   "source": [
    "Use pretrained NER to prefilter."
   ],
   "metadata": {
    "collapsed": false
   }
  },
  {
   "cell_type": "code",
   "execution_count": 22,
   "outputs": [
    {
     "name": "stdout",
     "output_type": "stream",
     "text": [
      "(10 Heddon Street,) ['TIME'] 10 Heddon Street The restaurant brings the same ethos as appeared at 10 Heddon Street, with nose-to-tail dining and homemade pasta dishes the stars\n",
      "() [] Ossie’s Lunch The clams were at Ossie’s Lunch\n",
      "79 300 247 2\n"
     ]
    }
   ],
   "source": [
    "def is_relevant(row):\n",
    "    return bool({ent.label_ for ent in row['nlp'].ents}.intersection({'DATE' ,'ORG', 'PERSON', 'NORP', 'GPE', 'FAC', 'PRODUCT'}))\n",
    "\n",
    "TP, TN, FP, FN = 0, 0, 0, 0\n",
    "for index, row in df.iterrows():\n",
    "    if is_relevant(row) and row['entities'] != '':\n",
    "        TP += 1\n",
    "    elif is_relevant(row) and row['entities'] == '':\n",
    "        FP += 1\n",
    "    elif not is_relevant(row) and row['entities'] == '':\n",
    "        TN += 1\n",
    "    elif not is_relevant(row) and row['entities'] != '':\n",
    "        print(row['nlp'].ents, [ent.label_ for ent in row['nlp'].ents], row['entities'], row['nlp'].text)\n",
    "        FN += 1\n",
    "print(TP, TN, FP, FN)\n",
    "array = [[TP, TN],\n",
    "        [FP, FN]]\n",
    "plot = make_confusion_matrix(np.array(array),\n",
    "                      group_names=labels,\n",
    "                      categories=categories,\n",
    "                      filename='../plots/ner_matrix_prefilter.png')"
   ],
   "metadata": {
    "collapsed": false,
    "pycharm": {
     "name": "#%%\n"
    }
   }
  },
  {
   "cell_type": "markdown",
   "source": [
    "Draw confusion matricies."
   ],
   "metadata": {
    "collapsed": false
   }
  },
  {
   "cell_type": "code",
   "execution_count": 24,
   "outputs": [],
   "source": [
    "import seaborn as sn\n",
    "import pandas as pd\n",
    "import matplotlib.pyplot as plt"
   ],
   "metadata": {
    "collapsed": false,
    "pycharm": {
     "name": "#%%\n"
    }
   }
  },
  {
   "cell_type": "code",
   "execution_count": null,
   "outputs": [],
   "source": [
    "df_cm = pd.DataFrame(array, index = [i for i in \"TF\"],\n",
    "                  columns = [i for i in \"PN\"])\n",
    "plt.figure(figsize = (10,7))\n",
    "sn.heatmap(df_cm, annot=True)\n"
   ],
   "metadata": {
    "collapsed": false,
    "pycharm": {
     "name": "#%%\n"
    }
   }
  },
  {
   "cell_type": "code",
   "execution_count": 54,
   "outputs": [],
   "source": [
    "array = [[TN, FP],\n",
    "        [FN, TP]]\n",
    "from prefilter_results_raw import make_confusion_matrix\n",
    "import numpy as np\n",
    "import matplotlib.pyplot as plt\n",
    "import seaborn as sns"
   ],
   "metadata": {
    "collapsed": false,
    "pycharm": {
     "name": "#%%\n"
    }
   }
  },
  {
   "cell_type": "code",
   "execution_count": 56,
   "outputs": [
    {
     "data": {
      "text/plain": "<Figure size 432x288 with 2 Axes>",
      "image/png": "[encoded data removed]"
     },
     "metadata": {
      "needs_background": "light"
     },
     "output_type": "display_data"
    }
   ],
   "source": [
    "labels = ['True Neg','False Pos','False Neg','True Pos']\n",
    "categories = ['Zero', 'One']\n",
    "plot = make_confusion_matrix(np.array(array),\n",
    "                      group_names=labels,\n",
    "                      categories=categories,\n",
    "                      filename='../plots/test.png')\n",
    "\n",
    "\n",
    "\n",
    "\n",
    "\n",
    "\n",
    "\n",
    "\n",
    "\n",
    "\n",
    "\n",
    "\n",
    "\n",
    "\n",
    "\n",
    "\n",
    "\n",
    "\n",
    "\n",
    "\n",
    "\n",
    "\n"
   ],
   "metadata": {
    "collapsed": false,
    "pycharm": {
     "name": "#%%\n"
    }
   }
  },
  {
   "cell_type": "code",
   "execution_count": 55,
   "outputs": [],
   "source": [
    "def make_confusion_matrix(cf,\n",
    "                          group_names=None,\n",
    "                          categories='auto',\n",
    "                          count=True,\n",
    "                          percent=True,\n",
    "                          cbar=True,\n",
    "                          xyticks=True,\n",
    "                          xyplotlabels=True,\n",
    "                          sum_stats=True,\n",
    "                          figsize=None,\n",
    "                          cmap='Blues',\n",
    "                          title=None,\n",
    "                          filename=None):\n",
    "    '''\n",
    "    This function will make a pretty plot of an sklearn Confusion Matrix cm using a Seaborn heatmap visualization.\n",
    "    Arguments\n",
    "    ---------\n",
    "    cf:            confusion matrix to be passed in\n",
    "    group_names:   List of strings that represent the labels row by row to be shown in each square.\n",
    "    categories:    List of strings containing the categories to be displayed on the x,y axis. Default is 'auto'\n",
    "    count:         If True, show the raw number in the confusion matrix. Default is True.\n",
    "    normalize:     If True, show the proportions for each category. Default is True.\n",
    "    cbar:          If True, show the color bar. The cbar values are based off the values in the confusion matrix.\n",
    "                   Default is True.\n",
    "    xyticks:       If True, show x and y ticks. Default is True.\n",
    "    xyplotlabels:  If True, show 'True Label' and 'Predicted Label' on the figure. Default is True.\n",
    "    sum_stats:     If True, display summary statistics below the figure. Default is True.\n",
    "    figsize:       Tuple representing the figure size. Default will be the matplotlib rcParams value.\n",
    "    cmap:          Colormap of the values displayed from matplotlib.pyplot.cm. Default is 'Blues'\n",
    "                   See http://matplotlib.org/examples/color/colormaps_reference.html\n",
    "\n",
    "    title:         Title for the heatmap. Default is None.\n",
    "    filename:      Filename.\n",
    "    '''\n",
    "\n",
    "    # CODE TO GENERATE TEXT INSIDE EACH SQUARE\n",
    "    blanks = ['' for i in range(cf.size)]\n",
    "\n",
    "    if group_names and len(group_names) == cf.size:\n",
    "        group_labels = [\"{}\\n\".format(value) for value in group_names]\n",
    "    else:\n",
    "        group_labels = blanks\n",
    "\n",
    "    if count:\n",
    "        group_counts = [\"{0:0.0f}\\n\".format(value) for value in cf.flatten()]\n",
    "    else:\n",
    "        group_counts = blanks\n",
    "\n",
    "    if percent:\n",
    "        group_percentages = [\"{0:.2%}\".format(value) for value in cf.flatten() / np.sum(cf)]\n",
    "    else:\n",
    "        group_percentages = blanks\n",
    "\n",
    "    box_labels = [f\"{v1}{v2}{v3}\".strip() for v1, v2, v3 in zip(group_labels, group_counts, group_percentages)]\n",
    "    box_labels = np.asarray(box_labels).reshape(cf.shape[0], cf.shape[1])\n",
    "\n",
    "    # CODE TO GENERATE SUMMARY STATISTICS & TEXT FOR SUMMARY STATS\n",
    "    if sum_stats:\n",
    "        # Accuracy is sum of diagonal divided by total observations\n",
    "        accuracy = np.trace(cf) / float(np.sum(cf))\n",
    "\n",
    "        # if it is a binary confusion matrix, show some more stats\n",
    "        if len(cf) == 2:\n",
    "            # Metrics for Binary Confusion Matrices\n",
    "            precision = cf[1, 1] / sum(cf[:, 1])\n",
    "            recall = cf[1, 1] / sum(cf[1, :])\n",
    "            f1_score = 2 * precision * recall / (precision + recall)\n",
    "            stats_text = \"\\n\\nAccuracy={:0.3f}\\nPrecision={:0.3f}\\nRecall={:0.3f}\\nF1 Score={:0.3f}\".format(\n",
    "                accuracy, precision, recall, f1_score)\n",
    "        else:\n",
    "            stats_text = \"\\n\\nAccuracy={:0.3f}\".format(accuracy)\n",
    "    else:\n",
    "        stats_text = \"\"\n",
    "\n",
    "    # SET FIGURE PARAMETERS ACCORDING TO OTHER ARGUMENTS\n",
    "    if figsize == None:\n",
    "        # Get default figure size if not set\n",
    "        figsize = plt.rcParams.get('figure.figsize')\n",
    "\n",
    "    if xyticks == False:\n",
    "        # Do not show categories if xyticks is False\n",
    "        categories = False\n",
    "\n",
    "    # MAKE THE HEATMAP VISUALIZATION\n",
    "    plt.figure(figsize=figsize)\n",
    "    sns.heatmap(cf, annot=box_labels, fmt=\"\", cmap=cmap, cbar=cbar, xticklabels=categories, yticklabels=categories)\n",
    "\n",
    "    if xyplotlabels:\n",
    "        plt.ylabel('True label')\n",
    "        plt.xlabel('Predicted label' + stats_text)\n",
    "    else:\n",
    "        plt.xlabel(stats_text)\n",
    "\n",
    "    if title:\n",
    "        plt.title(title)\n",
    "\n",
    "    if filename:\n",
    "        plt.savefig(filename)"
   ],
   "metadata": {
    "collapsed": false,
    "pycharm": {
     "name": "#%%\n"
    }
   }
  }
 ],
 "metadata": {
  "kernelspec": {
   "display_name": "Python 3",
   "language": "python",
   "name": "python3"
  },
  "language_info": {
   "codemirror_mode": {
    "name": "ipython",
    "version": 2
   },
   "file_extension": ".py",
   "mimetype": "text/x-python",
   "name": "python",
   "nbconvert_exporter": "python",
   "pygments_lexer": "ipython2",
   "version": "2.7.6"
  }
 },
 "nbformat": 4,
 "nbformat_minor": 0
}